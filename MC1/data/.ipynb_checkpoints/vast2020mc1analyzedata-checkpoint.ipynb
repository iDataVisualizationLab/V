{
 "cells": [
  {
   "cell_type": "code",
   "execution_count": 1,
   "metadata": {},
   "outputs": [],
   "source": [
    "import pandas as pd\n",
    "import numpy as np"
   ]
  },
  {
   "cell_type": "code",
   "execution_count": 5,
   "metadata": {},
   "outputs": [
    {
     "name": "stdout",
     "output_type": "stream",
     "text": [
      "Collecting pymongo\n",
      "\u001b[?25l  Downloading https://files.pythonhosted.org/packages/23/cd/27fbc08f0bd835b4735504a758756e979b42c5bc9ebaac5ed3c2cbffd83f/pymongo-3.10.1-cp37-cp37m-macosx_10_9_x86_64.whl (350kB)\n",
      "\u001b[K     |████████████████████████████████| 358kB 1.1MB/s eta 0:00:01\n",
      "\u001b[?25hInstalling collected packages: pymongo\n",
      "Successfully installed pymongo-3.10.1\n"
     ]
    }
   ],
   "source": [
    "!pip install pymongo"
   ]
  },
  {
   "cell_type": "code",
   "execution_count": 11,
   "metadata": {},
   "outputs": [],
   "source": [
    "import pymongo\n",
    "from pymongo import MongoClient\n",
    "from pprint import pprint\n",
    "client = MongoClient(host='localhost',port=27017)"
   ]
  },
  {
   "cell_type": "code",
   "execution_count": 12,
   "metadata": {},
   "outputs": [],
   "source": [
    "db = client['vast2020mc1']"
   ]
  },
  {
   "cell_type": "code",
   "execution_count": 21,
   "metadata": {},
   "outputs": [
    {
     "data": {
      "text/plain": [
       "['Q1Graph3',\n",
       " 'Q1Graph2',\n",
       " 'Q1Graph4',\n",
       " 'Q2Seed1',\n",
       " 'Q1Graph1',\n",
       " 'Q2Seed3',\n",
       " 'Q2Seed2',\n",
       " 'CGCSGraphData',\n",
       " 'Q1Graph5']"
      ]
     },
     "execution_count": 21,
     "metadata": {},
     "output_type": "execute_result"
    }
   ],
   "source": [
    "db.list_collection_names()"
   ]
  },
  {
   "cell_type": "code",
   "execution_count": 23,
   "metadata": {},
   "outputs": [
    {
     "name": "stdout",
     "output_type": "stream",
     "text": [
      "730\n"
     ]
    }
   ],
   "source": [
    "ft = {}\n",
    "print(db['Q1Graph3'].count_documents(ft))"
   ]
  },
  {
   "cell_type": "code",
   "execution_count": 55,
   "metadata": {},
   "outputs": [
    {
     "name": "stdout",
     "output_type": "stream",
     "text": [
      "{'_id': 635665, 'count': 64}\n",
      "{'_id': 527449, 'count': 44}\n",
      "{'_id': 473173, 'count': 44}\n",
      "{'_id': 595298, 'count': 44}\n",
      "{'_id': 459381, 'count': 44}\n",
      "{'_id': 503701, 'count': 37}\n",
      "{'_id': 466907, 'count': 36}\n",
      "{'_id': 567195, 'count': 36}\n",
      "{'_id': 621924, 'count': 35}\n",
      "{'_id': 620120, 'count': 34}\n",
      "{'_id': 589943, 'count': 33}\n",
      "{'_id': 595581, 'count': 33}\n",
      "{'_id': 523927, 'count': 31}\n",
      "{'_id': 630626, 'count': 31}\n",
      "{'_id': 580426, 'count': 30}\n",
      "{'_id': 589639, 'count': 30}\n",
      "{'_id': 632961, 'count': 29}\n",
      "{'_id': 537281, 'count': 29}\n",
      "{'_id': 575030, 'count': 28}\n",
      "{'_id': 642329, 'count': 28}\n",
      "{'_id': 571970, 'count': 27}\n",
      "{'_id': 577992, 'count': 26}\n",
      "{'_id': 623295, 'count': 26}\n",
      "{'_id': 492777, 'count': 26}\n",
      "{'_id': 616315, 'count': 25}\n",
      "{'_id': 493044, 'count': 25}\n",
      "{'_id': 490041, 'count': 22}\n",
      "{'_id': 550361, 'count': 19}\n",
      "{'_id': 599956, 'count': 18}\n",
      "{'_id': 570411, 'count': 17}\n",
      "{'_id': 536346, 'count': 17}\n",
      "{'_id': 644226, 'count': 17}\n",
      "{'_id': 520660, 'count': 15}\n",
      "{'_id': 640464, 'count': 15}\n",
      "{'_id': 657187, 'count': 14}\n",
      "{'_id': 596193, 'count': 13}\n",
      "{'_id': 464459, 'count': 11}\n",
      "{'_id': 533140, 'count': 11}\n",
      "{'_id': 616050, 'count': 10}\n",
      "{'_id': 632150, 'count': 9}\n",
      "{'_id': 625756, 'count': 9}\n",
      "{'_id': 550287, 'count': 9}\n",
      "{'_id': 512397, 'count': 9}\n",
      "{'_id': 509607, 'count': 8}\n",
      "{'_id': 499467, 'count': 7}\n",
      "{'_id': 591682, 'count': 7}\n",
      "{'_id': 561157, 'count': 6}\n",
      "{'_id': 559657, 'count': 5}\n",
      "{'_id': 606730, 'count': 4}\n",
      "{'_id': 657173, 'count': 4}\n",
      "{'_id': 640784, 'count': 4}\n",
      "{'_id': 463777, 'count': 3}\n",
      "{'_id': 554431, 'count': 3}\n",
      "{'_id': 599057, 'count': 3}\n",
      "{'_id': 503218, 'count': 3}\n",
      "{'_id': 568093, 'count': 3}\n",
      "{'_id': 548513, 'count': 3}\n",
      "{'_id': 474199, 'count': 3}\n",
      "{'_id': 616453, 'count': 3}\n",
      "{'_id': 592414, 'count': 2}\n",
      "{'_id': 575704, 'count': 2}\n",
      "{'_id': 636961, 'count': 2}\n",
      "{'_id': 505722, 'count': 2}\n",
      "{'_id': 654763, 'count': 2}\n",
      "{'_id': 517273, 'count': 2}\n",
      "{'_id': 654981, 'count': 2}\n",
      "{'_id': 575859, 'count': 2}\n",
      "{'_id': 635706, 'count': 2}\n",
      "{'_id': 629717, 'count': 2}\n",
      "{'_id': 569820, 'count': 2}\n",
      "{'_id': 530528, 'count': 2}\n",
      "{'_id': 475130, 'count': 2}\n",
      "{'_id': 502591, 'count': 2}\n",
      "{'_id': 599063, 'count': 2}\n",
      "{'_id': 492286, 'count': 1}\n",
      "{'_id': 576641, 'count': 1}\n",
      "{'_id': 622296, 'count': 1}\n",
      "{'_id': 529922, 'count': 1}\n",
      "{'_id': 590502, 'count': 1}\n",
      "{'_id': 608827, 'count': 1}\n",
      "{'_id': 566342, 'count': 1}\n"
     ]
    }
   ],
   "source": [
    "for r in db.Q1Graph1.aggregate([{\"$group\": {\"_id\": \"$Target\", \"count\": {\"$sum\": 1}}}, {\"$sort\": {\"count\":-1}}]):\n",
    "    pprint(r)"
   ]
  },
  {
   "cell_type": "code",
   "execution_count": 62,
   "metadata": {},
   "outputs": [],
   "source": [
    "target_counts = list(db.CGCSGraphData.aggregate([{\"$group\": {\"_id\": \"$Target\", \"count\": {\"$sum\": 1}}}, {\"$sort\": {\"count\":-1}}]))"
   ]
  },
  {
   "cell_type": "code",
   "execution_count": 63,
   "metadata": {},
   "outputs": [
    {
     "data": {
      "text/plain": [
       "136324"
      ]
     },
     "execution_count": 63,
     "metadata": {},
     "output_type": "execute_result"
    }
   ],
   "source": [
    "len(target_counts)"
   ]
  },
  {
   "cell_type": "code",
   "execution_count": 64,
   "metadata": {},
   "outputs": [],
   "source": [
    "source_counts = list(db.CGCSGraphData.aggregate([{\"$group\": {\"_id\": \"$Source\", \"count\": {\"$sum\": 1}}}, {\"$sort\": {\"count\":-1}}]))"
   ]
  },
  {
   "cell_type": "code",
   "execution_count": 76,
   "metadata": {},
   "outputs": [
    {
     "data": {
      "text/plain": [
       "[{'_id': 552988, 'count': 100000},\n",
       " {'_id': 510031, 'count': 63339},\n",
       " {'_id': 554368, 'count': 60395},\n",
       " {'_id': 561428, 'count': 33399},\n",
       " {'_id': 570191, 'count': 26890},\n",
       " {'_id': 516536, 'count': 23414},\n",
       " {'_id': 620120, 'count': 22896},\n",
       " {'_id': 463273, 'count': 22172},\n",
       " {'_id': 606424, 'count': 21988},\n",
       " {'_id': 563852, 'count': 21970}]"
      ]
     },
     "execution_count": 76,
     "metadata": {},
     "output_type": "execute_result"
    }
   ],
   "source": [
    "source_counts[:10]"
   ]
  },
  {
   "cell_type": "code",
   "execution_count": 67,
   "metadata": {},
   "outputs": [
    {
     "data": {
      "text/plain": [
       "164537"
      ]
     },
     "execution_count": 67,
     "metadata": {},
     "output_type": "execute_result"
    }
   ],
   "source": [
    "len(source_counts)"
   ]
  },
  {
   "cell_type": "code",
   "execution_count": 65,
   "metadata": {},
   "outputs": [],
   "source": [
    "eType_counts = list(db.CGCSGraphData.aggregate([{\"$group\": {\"_id\": \"$eType\", \"count\": {\"$sum\": 1}}}, {\"$sort\": {\"count\":-1}}]))"
   ]
  },
  {
   "cell_type": "code",
   "execution_count": 68,
   "metadata": {},
   "outputs": [
    {
     "data": {
      "text/plain": [
       "7"
      ]
     },
     "execution_count": 68,
     "metadata": {},
     "output_type": "execute_result"
    }
   ],
   "source": [
    "len(eType_counts)"
   ]
  },
  {
   "cell_type": "code",
   "execution_count": 70,
   "metadata": {},
   "outputs": [],
   "source": [
    "import matplotlib.pyplot as plt"
   ]
  },
  {
   "cell_type": "code",
   "execution_count": 71,
   "metadata": {},
   "outputs": [
    {
     "data": {
      "text/plain": [
       "<BarContainer object of 7 artists>"
      ]
     },
     "execution_count": 71,
     "metadata": {},
     "output_type": "execute_result"
    },
    {
     "data": {
      "image/png": "[encoded data removed]",
      "text/plain": [
       "<Figure size 432x288 with 1 Axes>"
      ]
     },
     "metadata": {
      "needs_background": "light"
     },
     "output_type": "display_data"
    }
   ],
   "source": [
    "plt.bar([t[\"_id\"] for t in eType_counts], [t[\"count\"] for t in eType_counts])"
   ]
  },
  {
   "cell_type": "code",
   "execution_count": 78,
   "metadata": {},
   "outputs": [
    {
     "data": {
      "text/plain": [
       "[100000, 63339, 60395, 33399, 26890, 23414, 22896, 22172, 21988, 21970]"
      ]
     },
     "execution_count": 78,
     "metadata": {},
     "output_type": "execute_result"
    }
   ],
   "source": [
    "[x['count'] for x in source_counts[:10]]"
   ]
  },
  {
   "cell_type": "code",
   "execution_count": 79,
   "metadata": {},
   "outputs": [
    {
     "data": {
      "text/plain": [
       "[552988,\n",
       " 510031,\n",
       " 554368,\n",
       " 561428,\n",
       " 570191,\n",
       " 516536,\n",
       " 620120,\n",
       " 463273,\n",
       " 606424,\n",
       " 563852]"
      ]
     },
     "execution_count": 79,
     "metadata": {},
     "output_type": "execute_result"
    }
   ],
   "source": [
    "[x[\"_id\"] for x in source_counts[:10]]"
   ]
  },
  {
   "cell_type": "code",
   "execution_count": 89,
   "metadata": {},
   "outputs": [],
   "source": [
    "def plot_top_field_counts(field_counts, nitems, title=None, xlabel=None, ylabel=None):\n",
    "    plt.figure(figsize=(20, 10))\n",
    "    plt.bar([str(x[\"_id\"]) for x in field_counts[-30:]], [x['count'] for x in field_counts[-30:]])\n",
    "    plt.xlabel(xlabel)\n",
    "    plt.ylabel(ylabel)\n",
    "    plt.title(title)\n",
    "    _ = plt.xticks(rotation=-45)\n",
    "    "
   ]
  },
  {
   "cell_type": "code",
   "execution_count": null,
   "metadata": {},
   "outputs": [],
   "source": [
    "def plot_low_field_counts(field_counts, nitems, title=None, xlabel=None, ylabel=None):\n",
    "    plt.figure(figsize=(20, 10))\n",
    "    plt.bar([str(x[\"_id\"]) for x in field_counts[:]], [x['count'] for x in field_counts[-30:]])\n",
    "    plt.xlabel(xlabel)\n",
    "    plt.ylabel(ylabel)\n",
    "    plt.title(title)\n",
    "    _ = plt.xticks(rotation=-45)"
   ]
  },
  {
   "cell_type": "code",
   "execution_count": 83,
   "metadata": {},
   "outputs": [
    {
     "data": {
      "text/plain": [
       "([0, 1, 2, 3, 4, 5, 6, 7, 8, 9, 10, 11, 12, 13, 14],\n",
       " <a list of 15 Text xticklabel objects>)"
      ]
     },
     "execution_count": 83,
     "metadata": {},
     "output_type": "execute_result"
    },
    {
     "data": {
      "image/png": "[encoded data removed]",
      "text/plain": [
       "<Figure size 432x288 with 1 Axes>"
      ]
     },
     "metadata": {
      "needs_background": "light"
     },
     "output_type": "display_data"
    }
   ],
   "source": [
    "plt.bar([str(x[\"_id\"]) for x in source_counts[:15]], [x['count'] for x in source_counts[:15]])\n",
    "plt.xticks(rotation=90)"
   ]
  },
  {
   "cell_type": "code",
   "execution_count": null,
   "metadata": {},
   "outputs": [],
   "source": []
  },
  {
   "cell_type": "code",
   "execution_count": 88,
   "metadata": {},
   "outputs": [
    {
     "data": {
      "image/png": "[encoded data removed]",
      "text/plain": [
       "<Figure size 1440x720 with 1 Axes>"
      ]
     },
     "metadata": {
      "needs_background": "light"
     },
     "output_type": "display_data"
    }
   ],
   "source": []
  },
  {
   "cell_type": "code",
   "execution_count": null,
   "metadata": {},
   "outputs": [],
   "source": []
  }
 ],
 "metadata": {
  "kernelspec": {
   "display_name": "Python 3",
   "language": "python",
   "name": "python3"
  },
  "language_info": {
   "codemirror_mode": {
    "name": "ipython",
    "version": 3
   },
   "file_extension": ".py",
   "mimetype": "text/x-python",
   "name": "python",
   "nbconvert_exporter": "python",
   "pygments_lexer": "ipython3",
   "version": "3.7.4"
  }
 },
 "nbformat": 4,
 "nbformat_minor": 2
}

{
 "cells": [
  {
   "cell_type": "markdown",
   "metadata": {},
   "source": [
    "Data were downloaded and preprocessed from: https://data.worldbank.org/"
   ]
  },
  {
   "cell_type": "code",
   "execution_count": 15,
   "metadata": {},
   "outputs": [],
   "source": [
    "import pandas as pd\n",
    "import numpy as np"
   ]
  },
  {
   "cell_type": "code",
   "execution_count": 16,
   "metadata": {},
   "outputs": [],
   "source": [
    "aids = pd.read_csv('AIDS.csv')"
   ]
  },
  {
   "cell_type": "code",
   "execution_count": 17,
   "metadata": {},
   "outputs": [
    {
     "name": "stdout",
     "output_type": "stream",
     "text": [
      "<class 'pandas.core.frame.DataFrame'>\n",
      "RangeIndex: 264 entries, 0 to 263\n",
      "Data columns (total 15 columns):\n",
      "Country Name      264 non-null object\n",
      "Country Code      264 non-null object\n",
      "Indicator Name    264 non-null object\n",
      "Indicator Code    264 non-null object\n",
      "2005              145 non-null float64\n",
      "2006              145 non-null float64\n",
      "2007              145 non-null float64\n",
      "2008              145 non-null float64\n",
      "2009              145 non-null float64\n",
      "2010              145 non-null float64\n",
      "2011              145 non-null float64\n",
      "2012              145 non-null float64\n",
      "2013              145 non-null float64\n",
      "2014              145 non-null float64\n",
      "2015              145 non-null float64\n",
      "dtypes: float64(11), object(4)\n",
      "memory usage: 31.1+ KB\n"
     ]
    }
   ],
   "source": [
    "aids.info()"
   ]
  },
  {
   "cell_type": "code",
   "execution_count": 19,
   "metadata": {},
   "outputs": [],
   "source": [
    "incomeshare = pd.read_csv('INCOMESHARE.csv')"
   ]
  },
  {
   "cell_type": "code",
   "execution_count": 20,
   "metadata": {},
   "outputs": [
    {
     "name": "stdout",
     "output_type": "stream",
     "text": [
      "<class 'pandas.core.frame.DataFrame'>\n",
      "RangeIndex: 264 entries, 0 to 263\n",
      "Data columns (total 15 columns):\n",
      "Country Name      264 non-null object\n",
      "Country Code      264 non-null object\n",
      "Indicator Name    264 non-null object\n",
      "Indicator Code    264 non-null object\n",
      "2005              75 non-null float64\n",
      "2006              73 non-null float64\n",
      "2007              71 non-null float64\n",
      "2008              72 non-null float64\n",
      "2009              77 non-null float64\n",
      "2010              83 non-null float64\n",
      "2011              76 non-null float64\n",
      "2012              79 non-null float64\n",
      "2013              76 non-null float64\n",
      "2014              80 non-null float64\n",
      "2015              80 non-null float64\n",
      "dtypes: float64(11), object(4)\n",
      "memory usage: 31.1+ KB\n"
     ]
    }
   ],
   "source": [
    "incomeshare.info()"
   ]
  },
  {
   "cell_type": "code",
   "execution_count": 21,
   "metadata": {},
   "outputs": [],
   "source": [
    "mmrt = pd.read_csv('MMRT.csv')"
   ]
  },
  {
   "cell_type": "code",
   "execution_count": 22,
   "metadata": {},
   "outputs": [
    {
     "name": "stdout",
     "output_type": "stream",
     "text": [
      "<class 'pandas.core.frame.DataFrame'>\n",
      "RangeIndex: 264 entries, 0 to 263\n",
      "Data columns (total 15 columns):\n",
      "Country Name      264 non-null object\n",
      "Country Code      264 non-null object\n",
      "Indicator Name    264 non-null object\n",
      "Indicator Code    264 non-null object\n",
      "2005              231 non-null float64\n",
      "2006              231 non-null float64\n",
      "2007              231 non-null float64\n",
      "2008              231 non-null float64\n",
      "2009              231 non-null float64\n",
      "2010              231 non-null float64\n",
      "2011              231 non-null float64\n",
      "2012              231 non-null float64\n",
      "2013              231 non-null float64\n",
      "2014              231 non-null float64\n",
      "2015              231 non-null float64\n",
      "dtypes: float64(11), object(4)\n",
      "memory usage: 31.1+ KB\n"
     ]
    }
   ],
   "source": [
    "mmrt.info()"
   ]
  },
  {
   "cell_type": "code",
   "execution_count": 23,
   "metadata": {},
   "outputs": [
    {
     "name": "stdout",
     "output_type": "stream",
     "text": [
      "<class 'pandas.core.frame.DataFrame'>\n",
      "RangeIndex: 264 entries, 0 to 263\n",
      "Data columns (total 15 columns):\n",
      "Country Name      264 non-null object\n",
      "Country Code      264 non-null object\n",
      "Indicator Name    264 non-null object\n",
      "Indicator Code    264 non-null object\n",
      "2005              239 non-null float64\n",
      "2006              239 non-null float64\n",
      "2007              239 non-null float64\n",
      "2008              239 non-null float64\n",
      "2009              239 non-null float64\n",
      "2010              239 non-null float64\n",
      "2011              239 non-null float64\n",
      "2012              239 non-null float64\n",
      "2013              239 non-null float64\n",
      "2014              239 non-null float64\n",
      "2015              239 non-null float64\n",
      "dtypes: float64(11), object(4)\n",
      "memory usage: 31.1+ KB\n"
     ]
    }
   ],
   "source": [
    "mort = pd.read_csv('MORT.csv')\n",
    "mort.info()"
   ]
  },
  {
   "cell_type": "code",
   "execution_count": 24,
   "metadata": {},
   "outputs": [
    {
     "name": "stdout",
     "output_type": "stream",
     "text": [
      "<class 'pandas.core.frame.DataFrame'>\n",
      "RangeIndex: 264 entries, 0 to 263\n",
      "Data columns (total 15 columns):\n",
      "Country Name      264 non-null object\n",
      "Country Code      264 non-null object\n",
      "Indicator Name    264 non-null object\n",
      "Indicator Code    264 non-null object\n",
      "2005              89 non-null float64\n",
      "2006              87 non-null float64\n",
      "2007              85 non-null float64\n",
      "2008              86 non-null float64\n",
      "2009              91 non-null float64\n",
      "2010              97 non-null float64\n",
      "2011              90 non-null float64\n",
      "2012              93 non-null float64\n",
      "2013              90 non-null float64\n",
      "2014              94 non-null float64\n",
      "2015              91 non-null float64\n",
      "dtypes: float64(11), object(4)\n",
      "memory usage: 31.1+ KB\n"
     ]
    }
   ],
   "source": [
    "pov = pd.read_csv('POV.csv')\n",
    "pov.info()"
   ]
  },
  {
   "cell_type": "code",
   "execution_count": 26,
   "metadata": {},
   "outputs": [],
   "source": [
    "data_files = ['AIDS', 'INCOMESHARE', 'MMRT', 'MORT', 'POV']"
   ]
  },
  {
   "cell_type": "code",
   "execution_count": 27,
   "metadata": {},
   "outputs": [],
   "source": [
    "# Concatenate all\n",
    "data = pd.concat([pd.read_csv(file_name+'.csv') for file_name in data_files], axis=1)"
   ]
  },
  {
   "cell_type": "code",
   "execution_count": 29,
   "metadata": {},
   "outputs": [
    {
     "name": "stdout",
     "output_type": "stream",
     "text": [
      "<class 'pandas.core.frame.DataFrame'>\n",
      "RangeIndex: 264 entries, 0 to 263\n",
      "Data columns (total 75 columns):\n",
      "Country Name      264 non-null object\n",
      "Country Code      264 non-null object\n",
      "Indicator Name    264 non-null object\n",
      "Indicator Code    264 non-null object\n",
      "2005              145 non-null float64\n",
      "2006              145 non-null float64\n",
      "2007              145 non-null float64\n",
      "2008              145 non-null float64\n",
      "2009              145 non-null float64\n",
      "2010              145 non-null float64\n",
      "2011              145 non-null float64\n",
      "2012              145 non-null float64\n",
      "2013              145 non-null float64\n",
      "2014              145 non-null float64\n",
      "2015              145 non-null float64\n",
      "Country Name      264 non-null object\n",
      "Country Code      264 non-null object\n",
      "Indicator Name    264 non-null object\n",
      "Indicator Code    264 non-null object\n",
      "2005              75 non-null float64\n",
      "2006              73 non-null float64\n",
      "2007              71 non-null float64\n",
      "2008              72 non-null float64\n",
      "2009              77 non-null float64\n",
      "2010              83 non-null float64\n",
      "2011              76 non-null float64\n",
      "2012              79 non-null float64\n",
      "2013              76 non-null float64\n",
      "2014              80 non-null float64\n",
      "2015              80 non-null float64\n",
      "Country Name      264 non-null object\n",
      "Country Code      264 non-null object\n",
      "Indicator Name    264 non-null object\n",
      "Indicator Code    264 non-null object\n",
      "2005              231 non-null float64\n",
      "2006              231 non-null float64\n",
      "2007              231 non-null float64\n",
      "2008              231 non-null float64\n",
      "2009              231 non-null float64\n",
      "2010              231 non-null float64\n",
      "2011              231 non-null float64\n",
      "2012              231 non-null float64\n",
      "2013              231 non-null float64\n",
      "2014              231 non-null float64\n",
      "2015              231 non-null float64\n",
      "Country Name      264 non-null object\n",
      "Country Code      264 non-null object\n",
      "Indicator Name    264 non-null object\n",
      "Indicator Code    264 non-null object\n",
      "2005              239 non-null float64\n",
      "2006              239 non-null float64\n",
      "2007              239 non-null float64\n",
      "2008              239 non-null float64\n",
      "2009              239 non-null float64\n",
      "2010              239 non-null float64\n",
      "2011              239 non-null float64\n",
      "2012              239 non-null float64\n",
      "2013              239 non-null float64\n",
      "2014              239 non-null float64\n",
      "2015              239 non-null float64\n",
      "Country Name      264 non-null object\n",
      "Country Code      264 non-null object\n",
      "Indicator Name    264 non-null object\n",
      "Indicator Code    264 non-null object\n",
      "2005              89 non-null float64\n",
      "2006              87 non-null float64\n",
      "2007              85 non-null float64\n",
      "2008              86 non-null float64\n",
      "2009              91 non-null float64\n",
      "2010              97 non-null float64\n",
      "2011              90 non-null float64\n",
      "2012              93 non-null float64\n",
      "2013              90 non-null float64\n",
      "2014              94 non-null float64\n",
      "2015              91 non-null float64\n",
      "dtypes: float64(55), object(20)\n",
      "memory usage: 154.8+ KB\n"
     ]
    }
   ],
   "source": [
    "data.info()"
   ]
  },
  {
   "cell_type": "code",
   "execution_count": 35,
   "metadata": {},
   "outputs": [],
   "source": [
    "df = data.dropna(axis=0)"
   ]
  },
  {
   "cell_type": "code",
   "execution_count": 36,
   "metadata": {},
   "outputs": [
    {
     "data": {
      "text/plain": [
       "21"
      ]
     },
     "execution_count": 36,
     "metadata": {},
     "output_type": "execute_result"
    }
   ],
   "source": [
    "len(df)"
   ]
  },
  {
   "cell_type": "code",
   "execution_count": 38,
   "metadata": {},
   "outputs": [],
   "source": [
    "data = df.reset_index(drop=True)"
   ]
  },
  {
   "cell_type": "code",
   "execution_count": 39,
   "metadata": {},
   "outputs": [
    {
     "name": "stdout",
     "output_type": "stream",
     "text": [
      "<class 'pandas.core.frame.DataFrame'>\n",
      "RangeIndex: 21 entries, 0 to 20\n",
      "Data columns (total 75 columns):\n",
      "Country Name      21 non-null object\n",
      "Country Code      21 non-null object\n",
      "Indicator Name    21 non-null object\n",
      "Indicator Code    21 non-null object\n",
      "2005              21 non-null float64\n",
      "2006              21 non-null float64\n",
      "2007              21 non-null float64\n",
      "2008              21 non-null float64\n",
      "2009              21 non-null float64\n",
      "2010              21 non-null float64\n",
      "2011              21 non-null float64\n",
      "2012              21 non-null float64\n",
      "2013              21 non-null float64\n",
      "2014              21 non-null float64\n",
      "2015              21 non-null float64\n",
      "Country Name      21 non-null object\n",
      "Country Code      21 non-null object\n",
      "Indicator Name    21 non-null object\n",
      "Indicator Code    21 non-null object\n",
      "2005              21 non-null float64\n",
      "2006              21 non-null float64\n",
      "2007              21 non-null float64\n",
      "2008              21 non-null float64\n",
      "2009              21 non-null float64\n",
      "2010              21 non-null float64\n",
      "2011              21 non-null float64\n",
      "2012              21 non-null float64\n",
      "2013              21 non-null float64\n",
      "2014              21 non-null float64\n",
      "2015              21 non-null float64\n",
      "Country Name      21 non-null object\n",
      "Country Code      21 non-null object\n",
      "Indicator Name    21 non-null object\n",
      "Indicator Code    21 non-null object\n",
      "2005              21 non-null float64\n",
      "2006              21 non-null float64\n",
      "2007              21 non-null float64\n",
      "2008              21 non-null float64\n",
      "2009              21 non-null float64\n",
      "2010              21 non-null float64\n",
      "2011              21 non-null float64\n",
      "2012              21 non-null float64\n",
      "2013              21 non-null float64\n",
      "2014              21 non-null float64\n",
      "2015              21 non-null float64\n",
      "Country Name      21 non-null object\n",
      "Country Code      21 non-null object\n",
      "Indicator Name    21 non-null object\n",
      "Indicator Code    21 non-null object\n",
      "2005              21 non-null float64\n",
      "2006              21 non-null float64\n",
      "2007              21 non-null float64\n",
      "2008              21 non-null float64\n",
      "2009              21 non-null float64\n",
      "2010              21 non-null float64\n",
      "2011              21 non-null float64\n",
      "2012              21 non-null float64\n",
      "2013              21 non-null float64\n",
      "2014              21 non-null float64\n",
      "2015              21 non-null float64\n",
      "Country Name      21 non-null object\n",
      "Country Code      21 non-null object\n",
      "Indicator Name    21 non-null object\n",
      "Indicator Code    21 non-null object\n",
      "2005              21 non-null float64\n",
      "2006              21 non-null float64\n",
      "2007              21 non-null float64\n",
      "2008              21 non-null float64\n",
      "2009              21 non-null float64\n",
      "2010              21 non-null float64\n",
      "2011              21 non-null float64\n",
      "2012              21 non-null float64\n",
      "2013              21 non-null float64\n",
      "2014              21 non-null float64\n",
      "2015              21 non-null float64\n",
      "dtypes: float64(55), object(20)\n",
      "memory usage: 12.4+ KB\n"
     ]
    }
   ],
   "source": [
    "data.info()"
   ]
  },
  {
   "cell_type": "code",
   "execution_count": 45,
   "metadata": {},
   "outputs": [],
   "source": [
    "data_df = pd.DataFrame(data['Country Name'].iloc[:,0])"
   ]
  },
  {
   "cell_type": "code",
   "execution_count": 43,
   "metadata": {},
   "outputs": [
    {
     "data": {
      "text/plain": [
       "0                Armenia\n",
       "1                Belarus\n",
       "2             Costa Rica\n",
       "3     Dominican Republic\n",
       "4                Ecuador\n",
       "5                  Spain\n",
       "6                 France\n",
       "7                Georgia\n",
       "8               Honduras\n",
       "9                Ireland\n",
       "10                 Italy\n",
       "11            Kazakhstan\n",
       "12       Kyrgyz Republic\n",
       "13             Lithuania\n",
       "14                Latvia\n",
       "15               Moldova\n",
       "16           Netherlands\n",
       "17                  Peru\n",
       "18              Paraguay\n",
       "19           El Salvador\n",
       "20               Ukraine\n",
       "Name: Country Name, dtype: object"
      ]
     },
     "execution_count": 43,
     "metadata": {},
     "output_type": "execute_result"
    }
   ],
   "source": [
    "for year in range(2005, 2016):\n",
    "    data_df"
   ]
  },
  {
   "cell_type": "code",
   "execution_count": null,
   "metadata": {},
   "outputs": [],
   "source": []
  }
 ],
 "metadata": {
  "kernelspec": {
   "display_name": "Python 3",
   "language": "python",
   "name": "python3"
  },
  "language_info": {
   "codemirror_mode": {
    "name": "ipython",
    "version": 3
   },
   "file_extension": ".py",
   "mimetype": "text/x-python",
   "name": "python",
   "nbconvert_exporter": "python",
   "pygments_lexer": "ipython3",
   "version": "3.7.4"
  }
 },
 "nbformat": 4,
 "nbformat_minor": 2
}
